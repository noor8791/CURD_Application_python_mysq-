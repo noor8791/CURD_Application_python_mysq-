{
 "cells": [
  {
   "cell_type": "code",
   "execution_count": 3,
   "id": "3dc9c12d-a317-46ee-a6de-062e2d5970ae",
   "metadata": {},
   "outputs": [],
   "source": [
    "import mysql.connector"
   ]
  },
  {
   "cell_type": "markdown",
   "id": "aa9111f3-ac1e-4a95-b6f0-b540f4201034",
   "metadata": {},
   "source": [
    "# Create batabase"
   ]
  },
  {
   "cell_type": "markdown",
   "id": "2094a843-0094-479b-999b-e851010cf97f",
   "metadata": {},
   "source": [
    "# Create Table"
   ]
  },
  {
   "cell_type": "code",
   "execution_count": 5,
   "id": "b694b8e4-1d72-4f9d-a066-7395364dc0c4",
   "metadata": {},
   "outputs": [
    {
     "name": "stdout",
     "output_type": "stream",
     "text": [
      "all reade create table ('student',)\n"
     ]
    }
   ],
   "source": [
    "conn = mysql.connector.connect(\n",
    "    host = \"localhost\",\n",
    "    user = \"root\",\n",
    "    password = \"1234\",\n",
    "    database = \"curddatabase\"\n",
    ")\n",
    "db = conn.cursor()\n",
    "name = \"student\"\n",
    "query = f\"SHOW TABLES LIKE '{name}'\"\n",
    "db.execute(query)\n",
    "fach = db.fetchone()\n",
    "\n",
    "if fach:\n",
    "    print(\"all reade create table\",fach)\n",
    "else:\n",
    "   query = f\"\"\"create table '{name}' (\n",
    "      id int auto_increment,\n",
    "      name varchar(10) not null,\n",
    "      age int not null,\n",
    "      mark int not null,\n",
    "      class varchar(100),\n",
    "      primary key(id)\n",
    "   )\"\"\"\n",
    "   db.execute(query)\n",
    "   print(\"Success fully Create table\")\n",
    "conn.commit()"
   ]
  },
  {
   "cell_type": "markdown",
   "id": "4e745c95-9441-4283-92f3-735e4dc77e1f",
   "metadata": {},
   "source": [
    "# Data insert in Mysql table"
   ]
  },
  {
   "cell_type": "code",
   "execution_count": null,
   "id": "186c7f54-58ca-4aa5-a354-62ebedad3d5c",
   "metadata": {},
   "outputs": [],
   "source": [
    "query = \"insert into student (name,age,mark,class) values(%s,%s,%s,%s)\"\n",
    "values = (\"noor\",23,85,\"5th\")\n",
    "db.execute(query,values)\n",
    "print(\"Data insert Success fully\")\n",
    "query2 = \"select * from student\"\n",
    "db.execute(query2)\n",
    "data = db.fetchall()\n",
    "for i in data:\n",
    "    print(i)\n",
    "conn.commit()"
   ]
  },
  {
   "cell_type": "markdown",
   "id": "8f2dfce0-5989-4e25-a2e9-6cfa31383ae4",
   "metadata": {},
   "source": [
    "# Multiple data insert in mysql table"
   ]
  },
  {
   "cell_type": "code",
   "execution_count": 29,
   "id": "818f9471-0e82-40e8-a3db-5b1635b24aab",
   "metadata": {},
   "outputs": [
    {
     "name": "stdout",
     "output_type": "stream",
     "text": [
      "(3, 'noor', 23, 85, '5th')\n",
      "(4, 'noor', 23, 85, '5th')\n",
      "(5, 'Amit', 21, 90, 'BCA')\n",
      "(6, 'Sita', 22, 88, 'MCA')\n",
      "(7, 'Ravi', 24, 75, 'BBA')\n",
      "(8, 'radha', 25, 86, 'MBA')\n",
      "(9, 'Amit', 21, 90, 'BCA')\n",
      "(10, 'Sita', 22, 88, 'MCA')\n",
      "(11, 'Ravi', 24, 75, 'BBA')\n",
      "(12, 'radha', 25, 86, 'MBA')\n",
      "(13, 'Amit', 21, 90, 'BCA')\n",
      "(14, 'Sita', 22, 88, 'MCA')\n",
      "(15, 'Ravi', 24, 75, 'BBA')\n",
      "(16, 'radha', 25, 86, 'MBA')\n"
     ]
    }
   ],
   "source": [
    "query = \"insert into student (name,age,mark,class) values(%s,%s,%s,%s)\"\n",
    "values = [\n",
    "    (\"Amit\", 21, 90, \"BCA\"),\n",
    "    (\"Sita\", 22, 88, \"MCA\"),\n",
    "    (\"Ravi\", 24, 75, \"BBA\"),\n",
    "    (\"radha\", 25, 86, \"MBA\")\n",
    "]\n",
    "db.executemany(query,values)\n",
    "query2 = \"select * from student\"\n",
    "db.execute(query2)\n",
    "data = db.fetchall()\n",
    "for i in data:\n",
    "    print(i)\n",
    "conn.commit()"
   ]
  },
  {
   "cell_type": "markdown",
   "id": "e3190d4b-f77c-4877-b337-e6c7ef1ccf05",
   "metadata": {},
   "source": [
    "# One row recode Update in mysql"
   ]
  },
  {
   "cell_type": "code",
   "execution_count": 6,
   "id": "8e0885f0-0efc-47bb-9a0c-92c58bf0ec18",
   "metadata": {},
   "outputs": [
    {
     "name": "stdout",
     "output_type": "stream",
     "text": [
      "Update success fully data\n",
      "(3, 'noor khan', 28, 85, '5th')\n",
      "(4, 'rabi', 23, 85, '5th')\n",
      "(5, 'Amit', 55, 90, 'BCA')\n",
      "(6, 'Sita', 50, 78, 'MCA')\n",
      "(7, 'Ravi b', 50, 75, 'BBA')\n",
      "(8, 'radha', 25, 90, 'MBA')\n",
      "(9, 'Amit', 21, 90, 'BCA')\n",
      "(10, 'Sita', 22, 88, 'MCA')\n",
      "(11, 'Ravi', 24, 75, 'BBA')\n",
      "(12, 'radha', 25, 86, 'MBA')\n",
      "(13, 'Amit', 21, 90, 'BCA')\n",
      "(14, 'Sita', 22, 88, 'MCA')\n",
      "(15, 'Ravi', 24, 75, 'BBA')\n",
      "(16, 'radha', 25, 86, 'MBA')\n"
     ]
    }
   ],
   "source": [
    "query = \"update student set name = %s, age = %s where id=3\"\n",
    "values = (\"noor khan\", 28)\n",
    "db.execute(query,values)\n",
    "print(\"Update success fully data\")\n",
    "\n",
    "query2 = \"select * from student\"\n",
    "db.execute(query2)\n",
    "data = db.fetchall()\n",
    "for i in data:\n",
    "    print(i)\n",
    "conn.consume_results() \n",
    "conn.commit()"
   ]
  },
  {
   "cell_type": "markdown",
   "id": "3acf31ad-e5cb-4247-aac8-4fd76e20588f",
   "metadata": {},
   "source": [
    "# Multiple recode Update in mysql"
   ]
  },
  {
   "cell_type": "code",
   "execution_count": 11,
   "id": "eb7802e1-f5c4-427c-9694-cdd29e429b4a",
   "metadata": {},
   "outputs": [
    {
     "name": "stdout",
     "output_type": "stream",
     "text": [
      "Success fully update data\n",
      "(3, 'noor khan', 28, 85, '5th')\n",
      "(4, 'rabi', 23, 85, '5th')\n",
      "(5, 'Amit', 55, 90, 'BCA')\n",
      "(6, 'Sita', 50, 78, 'MCA')\n",
      "(7, 'Ravi', 50, 75, 'BBA')\n",
      "(8, 'radha', 25, 90, 'MBA')\n",
      "(9, 'Amit', 21, 90, 'BCA')\n",
      "(10, 'Sita', 22, 88, 'MCA')\n",
      "(11, 'Ravi', 24, 75, 'BBA')\n",
      "(12, 'radha', 25, 86, 'MBA')\n",
      "(13, 'Amit', 21, 90, 'BCA')\n",
      "(14, 'Sita', 22, 88, 'MCA')\n",
      "(15, 'Ravi', 24, 75, 'BBA')\n",
      "(16, 'radha', 25, 86, 'MBA')\n"
     ]
    }
   ],
   "source": [
    "query = \"update student set name = %s, age = %s, mark = %s where id = %s\"\n",
    "values = [\n",
    "    ('rabi', 23, 85, 4),\n",
    "    ('Amit', 55, 90, 5),\n",
    "    ('Sita', 50, 78, 6),\n",
    "    ('Ravi', 50, 75, 7),\n",
    "    ('radha', 25, 90, 8)\n",
    "]\n",
    "db.executemany(query,values)\n",
    "print(\"Success fully update data\")\n",
    "\n",
    "query2 = \"select * from student\"\n",
    "db.execute(query2)\n",
    "result = db.fetchall()\n",
    "for i in result:\n",
    "    print(i)\n",
    "conn.consume_results() \n",
    "conn.commit()"
   ]
  },
  {
   "cell_type": "markdown",
   "id": "c82b140a-1bab-43cf-a159-1f712ae6164f",
   "metadata": {},
   "source": [
    "# User one recode delete in mysql table"
   ]
  },
  {
   "cell_type": "code",
   "execution_count": 13,
   "id": "77532343-01ba-422b-ae45-2e323a20f8a2",
   "metadata": {},
   "outputs": [
    {
     "name": "stdout",
     "output_type": "stream",
     "text": [
      "Success fully Delete mysql table row\n",
      "(4, 'rabi', 23, 85, '5th')\n",
      "(5, 'Amit', 55, 90, 'BCA')\n",
      "(6, 'Sita', 50, 78, 'MCA')\n",
      "(7, 'Ravi', 50, 75, 'BBA')\n",
      "(8, 'radha', 25, 90, 'MBA')\n",
      "(9, 'Amit', 21, 90, 'BCA')\n",
      "(10, 'Sita', 22, 88, 'MCA')\n",
      "(11, 'Ravi', 24, 75, 'BBA')\n",
      "(12, 'radha', 25, 86, 'MBA')\n",
      "(13, 'Amit', 21, 90, 'BCA')\n",
      "(14, 'Sita', 22, 88, 'MCA')\n",
      "(15, 'Ravi', 24, 75, 'BBA')\n",
      "(16, 'radha', 25, 86, 'MBA')\n"
     ]
    }
   ],
   "source": [
    "query = \"delete from student where id = %s\"\n",
    "values = (3,)\n",
    "db.execute(query,values)\n",
    "print(\"Success fully Delete mysql table row\")\n",
    "\n",
    "query2 = \"select * from student\"\n",
    "db.execute(query2)\n",
    "result = db.fetchall()\n",
    "for i in result:\n",
    "    print(i)"
   ]
  }
 ],
 "metadata": {
  "kernelspec": {
   "display_name": "Python 3 (ipykernel)",
   "language": "python",
   "name": "python3"
  },
  "language_info": {
   "codemirror_mode": {
    "name": "ipython",
    "version": 3
   },
   "file_extension": ".py",
   "mimetype": "text/x-python",
   "name": "python",
   "nbconvert_exporter": "python",
   "pygments_lexer": "ipython3",
   "version": "3.13.7"
  }
 },
 "nbformat": 4,
 "nbformat_minor": 5
}
